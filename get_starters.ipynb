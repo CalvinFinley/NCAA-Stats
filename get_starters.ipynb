{
 "cells": [
  {
   "cell_type": "code",
   "execution_count": 1,
   "metadata": {},
   "outputs": [],
   "source": [
    "%load_ext autoreload\n",
    "%autoreload 1 \n",
    "%aimport game\n",
    "\n",
    "import pandas as pd\n",
    "import requests\n",
    "from io import StringIO\n",
    "from game import Game"
   ]
  },
  {
   "cell_type": "code",
   "execution_count": 2,
   "metadata": {},
   "outputs": [],
   "source": [
    "g = Game(5723719)"
   ]
  },
  {
   "cell_type": "code",
   "execution_count": 3,
   "metadata": {},
   "outputs": [
    {
     "data": {
      "text/plain": [
       "{'591874': ['Taylor Napper',\n",
       "  'Adriana Shipp-Davis',\n",
       "  'Cate Carlson',\n",
       "  'Joi Williams',\n",
       "  'Makayla Firebaugh'],\n",
       " '591735': ['Delaney Thomas',\n",
       "  'Ashlon Jackson',\n",
       "  'Jadyn Donovan',\n",
       "  'Reigan Richardson',\n",
       "  'Taina Mair']}"
      ]
     },
     "execution_count": 3,
     "metadata": {},
     "output_type": "execute_result"
    }
   ],
   "source": [
    "g.starters"
   ]
  },
  {
   "cell_type": "code",
   "execution_count": 13,
   "metadata": {},
   "outputs": [],
   "source": [
    "from utility import headers"
   ]
  },
  {
   "cell_type": "code",
   "execution_count": 14,
   "metadata": {},
   "outputs": [
    {
     "name": "stdout",
     "output_type": "stream",
     "text": [
      "<Response [200]>\n"
     ]
    }
   ],
   "source": [
    "r = requests.get(\"https://stats.ncaa.org/contests/5723719/play_by_play\", headers=headers)\n",
    "print(r)\n",
    "data = r.text"
   ]
  },
  {
   "cell_type": "code",
   "execution_count": 15,
   "metadata": {},
   "outputs": [],
   "source": [
    "pbp = [quarter for quarter in pd.read_html(StringIO(data), header=0) if 'Time' in quarter.columns]"
   ]
  },
  {
   "cell_type": "code",
   "execution_count": 26,
   "metadata": {},
   "outputs": [],
   "source": [
    "team1 = pbp[0]['Duke'].fillna('None')\n",
    "playerEvents = team1.loc[team1.str.contains(',') & ~team1.str.contains('Team,')]\n",
    "names = playerEvents.apply(lambda x: x.split(',')[0])"
   ]
  },
  {
   "cell_type": "code",
   "execution_count": 27,
   "metadata": {},
   "outputs": [
    {
     "name": "stdout",
     "output_type": "stream",
     "text": [
      "Delaney Thomas\n",
      "Ashlon Jackson\n",
      "Jadyn Donovan\n",
      "Reigan Richardson\n",
      "Taina Mair\n",
      "Oluchi Okananwa\n",
      "Emma Koabel\n",
      "Toby Fournier\n",
      "Jordan Wood\n",
      "Vanessa de Jesus\n"
     ]
    }
   ],
   "source": [
    "list_of_players = []\n",
    "for name in names:\n",
    "    if name not in list_of_players:\n",
    "        list_of_players.append(name)\n",
    "        print(name)"
   ]
  },
  {
   "cell_type": "code",
   "execution_count": 28,
   "metadata": {},
   "outputs": [
    {
     "data": {
      "text/plain": [
       "['Delaney Thomas',\n",
       " 'Ashlon Jackson',\n",
       " 'Jadyn Donovan',\n",
       " 'Reigan Richardson',\n",
       " 'Taina Mair',\n",
       " 'Oluchi Okananwa',\n",
       " 'Emma Koabel',\n",
       " 'Toby Fournier',\n",
       " 'Jordan Wood',\n",
       " 'Vanessa de Jesus']"
      ]
     },
     "execution_count": 28,
     "metadata": {},
     "output_type": "execute_result"
    }
   ],
   "source": [
    "starters = names.unique().tolist()\n",
    "starters"
   ]
  },
  {
   "cell_type": "code",
   "execution_count": 29,
   "metadata": {},
   "outputs": [
    {
     "data": {
      "text/plain": [
       "37     Oluchi Okananwa, substitution in\n",
       "52         Emma Koabel, substitution in\n",
       "56       Toby Fournier, substitution in\n",
       "60         Jordan Wood, substitution in\n",
       "62         Jordan Wood, substitution in\n",
       "76    Vanessa de Jesus, substitution in\n",
       "93      Ashlon Jackson, substitution in\n",
       "98         Jordan Wood, substitution in\n",
       "Name: Duke, dtype: object"
      ]
     },
     "execution_count": 29,
     "metadata": {},
     "output_type": "execute_result"
    }
   ],
   "source": [
    "subsIn = playerEvents.loc[playerEvents.str.contains('substitution in')]\n",
    "subsIn"
   ]
  },
  {
   "cell_type": "code",
   "execution_count": 30,
   "metadata": {},
   "outputs": [],
   "source": [
    "guaranteedStarters = names.loc[playerEvents.loc[:subsIn.index[0]-1].index].unique().tolist()"
   ]
  },
  {
   "cell_type": "code",
   "execution_count": 31,
   "metadata": {},
   "outputs": [
    {
     "data": {
      "text/plain": [
       "['Delaney Thomas',\n",
       " 'Ashlon Jackson',\n",
       " 'Jadyn Donovan',\n",
       " 'Reigan Richardson',\n",
       " 'Taina Mair']"
      ]
     },
     "execution_count": 31,
     "metadata": {},
     "output_type": "execute_result"
    }
   ],
   "source": [
    "guaranteedStarters"
   ]
  },
  {
   "cell_type": "code",
   "execution_count": 34,
   "metadata": {},
   "outputs": [],
   "source": [
    "nonStarters = names.loc[subsIn.index].unique().tolist()\n",
    "for starter in guaranteedStarters:\n",
    "    try:\n",
    "        nonStarters.remove(starter)\n",
    "    except ValueError:\n",
    "        pass"
   ]
  },
  {
   "cell_type": "code",
   "execution_count": 35,
   "metadata": {},
   "outputs": [
    {
     "data": {
      "text/plain": [
       "['Oluchi Okananwa',\n",
       " 'Emma Koabel',\n",
       " 'Toby Fournier',\n",
       " 'Jordan Wood',\n",
       " 'Vanessa de Jesus']"
      ]
     },
     "execution_count": 35,
     "metadata": {},
     "output_type": "execute_result"
    }
   ],
   "source": [
    "nonStarters"
   ]
  },
  {
   "cell_type": "code",
   "execution_count": 36,
   "metadata": {},
   "outputs": [],
   "source": [
    "for sub in nonStarters:\n",
    "    if len(starters) > 5:\n",
    "        starters.remove(sub)"
   ]
  },
  {
   "cell_type": "code",
   "execution_count": 37,
   "metadata": {},
   "outputs": [
    {
     "data": {
      "text/plain": [
       "['Delaney Thomas',\n",
       " 'Ashlon Jackson',\n",
       " 'Jadyn Donovan',\n",
       " 'Reigan Richardson',\n",
       " 'Taina Mair']"
      ]
     },
     "execution_count": 37,
     "metadata": {},
     "output_type": "execute_result"
    }
   ],
   "source": [
    "starters"
   ]
  }
 ],
 "metadata": {
  "kernelspec": {
   "display_name": ".venv",
   "language": "python",
   "name": "python3"
  },
  "language_info": {
   "codemirror_mode": {
    "name": "ipython",
    "version": 3
   },
   "file_extension": ".py",
   "mimetype": "text/x-python",
   "name": "python",
   "nbconvert_exporter": "python",
   "pygments_lexer": "ipython3",
   "version": "3.12.4"
  }
 },
 "nbformat": 4,
 "nbformat_minor": 2
}
