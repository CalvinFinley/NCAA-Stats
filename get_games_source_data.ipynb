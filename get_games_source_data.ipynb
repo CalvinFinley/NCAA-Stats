{
 "cells": [
  {
   "cell_type": "code",
   "execution_count": 7,
   "metadata": {},
   "outputs": [],
   "source": [
    "import re\n",
    "import pandas as pd\n",
    "from bs4 import BeautifulSoup\n",
    "from ncaa_pbp import Game\n",
    "from tqdm import tqdm\n",
    "import requests\n",
    "\n",
    "headers = {\"User-Agent\": \"Mozilla/5.0 (Windows NT 10.0; Win64; x64)\"}\n",
    "base_url = \"https://stats.ncaa.org/\""
   ]
  },
  {
   "cell_type": "code",
   "execution_count": 33,
   "metadata": {},
   "outputs": [],
   "source": [
    "games = pd.read_csv('games_2023-24.csv',header=0).GameID.drop_duplicates().tolist()\n"
   ]
  },
  {
   "cell_type": "code",
   "execution_count": 34,
   "metadata": {},
   "outputs": [
    {
     "data": {
      "text/plain": [
       "5899"
      ]
     },
     "execution_count": 34,
     "metadata": {},
     "output_type": "execute_result"
    }
   ],
   "source": [
    "len(games)"
   ]
  },
  {
   "cell_type": "code",
   "execution_count": 23,
   "metadata": {},
   "outputs": [
    {
     "name": "stderr",
     "output_type": "stream",
     "text": [
      "100%|██████████| 5899/5899 [5:48:21<00:00,  3.54s/it]   \n"
     ]
    }
   ],
   "source": [
    "errorGames = []\n",
    "errors = []\n",
    "for gameID in tqdm(games):\n",
    "    try:\n",
    "        Game(gameID, loadShotChart=False, source='web')\n",
    "    except Exception as e:\n",
    "        errorGames.append(gameID)\n",
    "        errors.append(e)"
   ]
  },
  {
   "cell_type": "code",
   "execution_count": 27,
   "metadata": {},
   "outputs": [
    {
     "data": {
      "text/plain": [
       "158"
      ]
     },
     "execution_count": 27,
     "metadata": {},
     "output_type": "execute_result"
    }
   ],
   "source": [
    "len(errorGames)"
   ]
  },
  {
   "cell_type": "code",
   "execution_count": 30,
   "metadata": {},
   "outputs": [
    {
     "data": {
      "text/plain": [
       "[3971562,\n",
       " 3976529,\n",
       " 4471863,\n",
       " 4472403,\n",
       " 3971308,\n",
       " 3974976,\n",
       " 3975019,\n",
       " 3971160,\n",
       " 3976036,\n",
       " 3970551]"
      ]
     },
     "execution_count": 30,
     "metadata": {},
     "output_type": "execute_result"
    }
   ],
   "source": [
    "errorGames[-10:]"
   ]
  },
  {
   "cell_type": "code",
   "execution_count": 16,
   "metadata": {},
   "outputs": [
    {
     "data": {
      "text/plain": [
       "['\\n     Bellevue\\n   ', '\\n\\nKansas City Roos\\n\\n       4-5, Conf 0-0\\n   ']"
      ]
     },
     "execution_count": 16,
     "metadata": {},
     "output_type": "execute_result"
    }
   ],
   "source": [
    "r = requests.get(\"https://stats.ncaa.org/contests/3974353/box_score\", headers=headers)\n",
    "soup = BeautifulSoup(r.text, 'html.parser')\n",
    "\n",
    "# Get teams' IDs from the hyperlink on the team name from the quarter-by-quarter scoring table\n",
    "[team.text for team in soup.find('table').find_all('td', {'class':'d-sm-table-cell'}) if team.text]"
   ]
  }
 ],
 "metadata": {
  "kernelspec": {
   "display_name": ".venv",
   "language": "python",
   "name": "python3"
  },
  "language_info": {
   "codemirror_mode": {
    "name": "ipython",
    "version": 3
   },
   "file_extension": ".py",
   "mimetype": "text/x-python",
   "name": "python",
   "nbconvert_exporter": "python",
   "pygments_lexer": "ipython3",
   "version": "3.12.4"
  }
 },
 "nbformat": 4,
 "nbformat_minor": 2
}
