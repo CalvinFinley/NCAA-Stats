{
 "cells": [
  {
   "cell_type": "code",
   "execution_count": 1,
   "metadata": {},
   "outputs": [
    {
     "ename": "FileNotFoundError",
     "evalue": "[Errno 2] No such file or directory: \"FGCU vs FIU Women's Basketball Game Summary - November 13th, 2022 NCAA complete.htm\"",
     "output_type": "error",
     "traceback": [
      "\u001b[1;31m---------------------------------------------------------------------------\u001b[0m",
      "\u001b[1;31mFileNotFoundError\u001b[0m                         Traceback (most recent call last)",
      "Cell \u001b[1;32mIn[1], line 6\u001b[0m\n\u001b[0;32m      3\u001b[0m \u001b[38;5;28;01mimport\u001b[39;00m \u001b[38;5;21;01mrequests\u001b[39;00m\n\u001b[0;32m      4\u001b[0m \u001b[38;5;28;01mimport\u001b[39;00m \u001b[38;5;21;01mjson\u001b[39;00m\n\u001b[1;32m----> 6\u001b[0m \u001b[38;5;28;01mwith\u001b[39;00m \u001b[38;5;28;43mopen\u001b[39;49m\u001b[43m(\u001b[49m\u001b[38;5;124;43mr\u001b[39;49m\u001b[38;5;124;43m\"\u001b[39;49m\u001b[38;5;124;43mFGCU vs FIU Women\u001b[39;49m\u001b[38;5;124;43m'\u001b[39;49m\u001b[38;5;124;43ms Basketball Game Summary - November 13th, 2022 NCAA complete.htm\u001b[39;49m\u001b[38;5;124;43m\"\u001b[39;49m\u001b[43m,\u001b[49m\u001b[43m \u001b[49m\u001b[43mencoding\u001b[49m\u001b[38;5;241;43m=\u001b[39;49m\u001b[38;5;124;43m\"\u001b[39;49m\u001b[38;5;124;43mutf8\u001b[39;49m\u001b[38;5;124;43m\"\u001b[39;49m\u001b[43m)\u001b[49m \u001b[38;5;28;01mas\u001b[39;00m file:\n\u001b[0;32m      7\u001b[0m     soup \u001b[38;5;241m=\u001b[39m BeautifulSoup(file\u001b[38;5;241m.\u001b[39mread(), \u001b[38;5;124m'\u001b[39m\u001b[38;5;124mhtml.parser\u001b[39m\u001b[38;5;124m'\u001b[39m)\n\u001b[0;32m      9\u001b[0m box \u001b[38;5;241m=\u001b[39m soup\u001b[38;5;241m.\u001b[39mfind(\u001b[38;5;124m'\u001b[39m\u001b[38;5;124mdiv\u001b[39m\u001b[38;5;124m'\u001b[39m,\u001b[38;5;28mid\u001b[39m\u001b[38;5;241m=\u001b[39m\u001b[38;5;124m'\u001b[39m\u001b[38;5;124mgamecenterAppContent\u001b[39m\u001b[38;5;124m'\u001b[39m)\n",
      "File \u001b[1;32mc:\\Users\\cfinl\\Basketball-Networks\\NCAA\\.venv\\Lib\\site-packages\\IPython\\core\\interactiveshell.py:324\u001b[0m, in \u001b[0;36m_modified_open\u001b[1;34m(file, *args, **kwargs)\u001b[0m\n\u001b[0;32m    317\u001b[0m \u001b[38;5;28;01mif\u001b[39;00m file \u001b[38;5;129;01min\u001b[39;00m {\u001b[38;5;241m0\u001b[39m, \u001b[38;5;241m1\u001b[39m, \u001b[38;5;241m2\u001b[39m}:\n\u001b[0;32m    318\u001b[0m     \u001b[38;5;28;01mraise\u001b[39;00m \u001b[38;5;167;01mValueError\u001b[39;00m(\n\u001b[0;32m    319\u001b[0m         \u001b[38;5;124mf\u001b[39m\u001b[38;5;124m\"\u001b[39m\u001b[38;5;124mIPython won\u001b[39m\u001b[38;5;124m'\u001b[39m\u001b[38;5;124mt let you open fd=\u001b[39m\u001b[38;5;132;01m{\u001b[39;00mfile\u001b[38;5;132;01m}\u001b[39;00m\u001b[38;5;124m by default \u001b[39m\u001b[38;5;124m\"\u001b[39m\n\u001b[0;32m    320\u001b[0m         \u001b[38;5;124m\"\u001b[39m\u001b[38;5;124mas it is likely to crash IPython. If you know what you are doing, \u001b[39m\u001b[38;5;124m\"\u001b[39m\n\u001b[0;32m    321\u001b[0m         \u001b[38;5;124m\"\u001b[39m\u001b[38;5;124myou can use builtins\u001b[39m\u001b[38;5;124m'\u001b[39m\u001b[38;5;124m open.\u001b[39m\u001b[38;5;124m\"\u001b[39m\n\u001b[0;32m    322\u001b[0m     )\n\u001b[1;32m--> 324\u001b[0m \u001b[38;5;28;01mreturn\u001b[39;00m \u001b[43mio_open\u001b[49m\u001b[43m(\u001b[49m\u001b[43mfile\u001b[49m\u001b[43m,\u001b[49m\u001b[43m \u001b[49m\u001b[38;5;241;43m*\u001b[39;49m\u001b[43margs\u001b[49m\u001b[43m,\u001b[49m\u001b[43m \u001b[49m\u001b[38;5;241;43m*\u001b[39;49m\u001b[38;5;241;43m*\u001b[39;49m\u001b[43mkwargs\u001b[49m\u001b[43m)\u001b[49m\n",
      "\u001b[1;31mFileNotFoundError\u001b[0m: [Errno 2] No such file or directory: \"FGCU vs FIU Women's Basketball Game Summary - November 13th, 2022 NCAA complete.htm\""
     ]
    }
   ],
   "source": [
    "from bs4 import BeautifulSoup\n",
    "import pandas as pd\n",
    "import requests\n",
    "import json\n",
    "\n",
    "with open(r\"FGCU vs FIU Women's Basketball Game Summary - November 13th, 2022 NCAA complete.htm\", encoding=\"utf8\") as file:\n",
    "    soup = BeautifulSoup(file.read(), 'html.parser')\n",
    "\n",
    "box = soup.find('div',id='gamecenterAppContent')\n",
    "\n",
    "with open(r\"FGCU vs FIU Women's Basketball Game Summary - November 13th, 2022 NCAA.com.html\", encoding=\"utf8\") as file:\n",
    "    soup = BeautifulSoup(file.read(), 'html.parser')\n",
    "\n",
    "pbp = soup.find('div',class_='gamecenter-tab-play-by-play')\n",
    "pbp"
   ]
  },
  {
   "cell_type": "code",
   "execution_count": 17,
   "metadata": {},
   "outputs": [
    {
     "name": "stdout",
     "output_type": "stream",
     "text": [
      "a\n"
     ]
    }
   ],
   "source": [
    "from selenium import webdriver\n",
    "from selenium.webdriver.firefox.options import Options\n",
    "from selenium.webdriver.common.by import By\n",
    "import requests\n",
    "\n",
    "options = Options()\n",
    "options.add_argument(\"--headless\")\n",
    "\n",
    "url = r'https://www.ncaa.com/game/6064407/'\n",
    "driver = webdriver.Firefox(options=options)\n",
    "driver.get(url)\n",
    "print('a')\n",
    "soup = BeautifulSoup(driver.page_source, 'html.parser')\n",
    "\n",
    "#driver.quit()\n"
   ]
  },
  {
   "cell_type": "code",
   "execution_count": 11,
   "metadata": {},
   "outputs": [],
   "source": [
    "soup = BeautifulSoup(driver.page_source, 'html.parser')\n"
   ]
  },
  {
   "cell_type": "code",
   "execution_count": 5,
   "metadata": {},
   "outputs": [],
   "source": [
    "driver.find_element(By.CLASS_NAME,'awayTeam-bg-primary_color').click()"
   ]
  },
  {
   "cell_type": "code",
   "execution_count": 6,
   "metadata": {},
   "outputs": [],
   "source": [
    "driver.find_element(By.LINK_TEXT,'PLAY-BY-PLAY').click()"
   ]
  },
  {
   "cell_type": "code",
   "execution_count": null,
   "metadata": {},
   "outputs": [],
   "source": [
    "pbp = soup.find('div',class_='gamecenter-tab-play-by-play')\n",
    "pbp"
   ]
  },
  {
   "cell_type": "code",
   "execution_count": 8,
   "metadata": {},
   "outputs": [],
   "source": [
    "team_names = [team for team in soup.find('div',class_='boxscore-team-selector').text.split('\\n') if team]\n",
    "team_map = {'away': team_names[0], 'home':team_names[1]}"
   ]
  },
  {
   "cell_type": "code",
   "execution_count": 9,
   "metadata": {},
   "outputs": [],
   "source": [
    "def getCurrentLineup(input_row, team):\n",
    "    \"\"\" Calculates the amount of time since a player last committed a foul\n",
    "\n",
    "    Args:\n",
    "        row (pd.Series): Play-by-play data row for a foul event\n",
    "\n",
    "    Returns:\n",
    "        float: Time in seconds since player's last foul\n",
    "    \"\"\"\n",
    "    global df, starters, current_players\n",
    "    row = input_row[1]\n",
    "    if row.name == 0:\n",
    "        return starters[team]\n",
    "    else:\n",
    "        description = row['description']\n",
    "        prev_row = df.loc[row.name - 1]\n",
    "        lineup = (current_players[team][-1]).copy()\n",
    "        \n",
    "        if 'Sub' in description and team_map[team] in description:\n",
    "            \n",
    "            subbing_description = row['description'].split()\n",
    "            in_or_out = subbing_description[1]\n",
    "            player = row['description'].split('-')[-1].upper()\n",
    "            if in_or_out == 'out':\n",
    "                lineup.remove(player)\n",
    "                return lineup\n",
    "            else:\n",
    "                lineup.append(player)\n",
    "                return lineup\n",
    "        else:\n",
    "            return lineup"
   ]
  },
  {
   "cell_type": "code",
   "execution_count": 13,
   "metadata": {},
   "outputs": [
    {
     "data": {
      "text/html": [
       "<div>\n",
       "<style scoped>\n",
       "    .dataframe tbody tr th:only-of-type {\n",
       "        vertical-align: middle;\n",
       "    }\n",
       "\n",
       "    .dataframe tbody tr th {\n",
       "        vertical-align: top;\n",
       "    }\n",
       "\n",
       "    .dataframe thead th {\n",
       "        text-align: right;\n",
       "    }\n",
       "</style>\n",
       "<table border=\"1\" class=\"dataframe\">\n",
       "  <thead>\n",
       "    <tr style=\"text-align: right;\">\n",
       "      <th></th>\n",
       "      <th>time</th>\n",
       "      <th>team</th>\n",
       "      <th>description</th>\n",
       "      <th>score</th>\n",
       "      <th>quarter</th>\n",
       "    </tr>\n",
       "  </thead>\n",
       "  <tbody>\n",
       "    <tr>\n",
       "      <th>0</th>\n",
       "      <td>09:42</td>\n",
       "      <td>FGCU</td>\n",
       "      <td>Jumper MISSED by FGCU's Tishara Morehouse</td>\n",
       "      <td></td>\n",
       "      <td>1</td>\n",
       "    </tr>\n",
       "    <tr>\n",
       "      <th>1</th>\n",
       "      <td>09:27</td>\n",
       "      <td>FIU</td>\n",
       "      <td>Turnover by FIU 's Kaliah Henderson</td>\n",
       "      <td>0-0</td>\n",
       "      <td>1</td>\n",
       "    </tr>\n",
       "    <tr>\n",
       "      <th>2</th>\n",
       "      <td>09:19</td>\n",
       "      <td>FGCU</td>\n",
       "      <td>Jumper by FGCU's Emma List</td>\n",
       "      <td>3-0</td>\n",
       "      <td>1</td>\n",
       "    </tr>\n",
       "    <tr>\n",
       "      <th>3</th>\n",
       "      <td>08:53</td>\n",
       "      <td>FIU</td>\n",
       "      <td>Turnover by FIU 's Ajae Yoakum</td>\n",
       "      <td>3-0</td>\n",
       "      <td>1</td>\n",
       "    </tr>\n",
       "    <tr>\n",
       "      <th>4</th>\n",
       "      <td>08:47</td>\n",
       "      <td>FIU</td>\n",
       "      <td>Personal Foul on FIU's Maria Torres (Tishara M...</td>\n",
       "      <td>3-0</td>\n",
       "      <td>1</td>\n",
       "    </tr>\n",
       "    <tr>\n",
       "      <th>...</th>\n",
       "      <td>...</td>\n",
       "      <td>...</td>\n",
       "      <td>...</td>\n",
       "      <td>...</td>\n",
       "      <td>...</td>\n",
       "    </tr>\n",
       "    <tr>\n",
       "      <th>399</th>\n",
       "      <td>01:05</td>\n",
       "      <td>FIU</td>\n",
       "      <td>Layup by FIU's Maria Torres</td>\n",
       "      <td>87-63</td>\n",
       "      <td>4</td>\n",
       "    </tr>\n",
       "    <tr>\n",
       "      <th>400</th>\n",
       "      <td>00:46</td>\n",
       "      <td>FGCU</td>\n",
       "      <td>Jumper by FGCU's Seneca Hackley</td>\n",
       "      <td>90-63</td>\n",
       "      <td>4</td>\n",
       "    </tr>\n",
       "    <tr>\n",
       "      <th>401</th>\n",
       "      <td>00:37</td>\n",
       "      <td>FIU</td>\n",
       "      <td>Jumper MISSED by FIU's Mihaela Lazic</td>\n",
       "      <td></td>\n",
       "      <td>4</td>\n",
       "    </tr>\n",
       "    <tr>\n",
       "      <th>402</th>\n",
       "      <td>00:21</td>\n",
       "      <td>FGCU</td>\n",
       "      <td>Layup by FGCU's Maddie Antenucci</td>\n",
       "      <td>92-63</td>\n",
       "      <td>4</td>\n",
       "    </tr>\n",
       "    <tr>\n",
       "      <th>403</th>\n",
       "      <td>00:00</td>\n",
       "      <td>FGCU</td>\n",
       "      <td>End of 4th Quarter.</td>\n",
       "      <td>92-63</td>\n",
       "      <td>4</td>\n",
       "    </tr>\n",
       "  </tbody>\n",
       "</table>\n",
       "<p>404 rows × 5 columns</p>\n",
       "</div>"
      ],
      "text/plain": [
       "      time  team                                        description  score  \\\n",
       "0    09:42  FGCU          Jumper MISSED by FGCU's Tishara Morehouse          \n",
       "1    09:27   FIU                Turnover by FIU 's Kaliah Henderson    0-0   \n",
       "2    09:19  FGCU                         Jumper by FGCU's Emma List    3-0   \n",
       "3    08:53   FIU                     Turnover by FIU 's Ajae Yoakum    3-0   \n",
       "4    08:47   FIU  Personal Foul on FIU's Maria Torres (Tishara M...    3-0   \n",
       "..     ...   ...                                                ...    ...   \n",
       "399  01:05   FIU                        Layup by FIU's Maria Torres  87-63   \n",
       "400  00:46  FGCU                    Jumper by FGCU's Seneca Hackley  90-63   \n",
       "401  00:37   FIU               Jumper MISSED by FIU's Mihaela Lazic          \n",
       "402  00:21  FGCU                   Layup by FGCU's Maddie Antenucci  92-63   \n",
       "403  00:00  FGCU                                End of 4th Quarter.  92-63   \n",
       "\n",
       "     quarter  \n",
       "0          1  \n",
       "1          1  \n",
       "2          1  \n",
       "3          1  \n",
       "4          1  \n",
       "..       ...  \n",
       "399        4  \n",
       "400        4  \n",
       "401        4  \n",
       "402        4  \n",
       "403        4  \n",
       "\n",
       "[404 rows x 5 columns]"
      ]
     },
     "execution_count": 13,
     "metadata": {},
     "output_type": "execute_result"
    }
   ],
   "source": [
    "categories = ['time', 'team', 'description', 'score', 'quarter']\n",
    "data = {col:[] for col in categories}\n",
    "\n",
    "quarters = pbp.find_all('div',class_='play-by-play-period-table')\n",
    "\n",
    "for n, quarter in enumerate(quarters):\n",
    "    table = quarter.contents[0].contents[3]\n",
    "\n",
    "    for col in categories:\n",
    "        if col == 'team':\n",
    "            column_data = table.find_all('img')\n",
    "            data[col].extend( [img.attrs['alt'].split()[0] for img in column_data] )\n",
    "        elif col == 'quarter':\n",
    "            data[col].extend( [n+1 for i in column_data] )\n",
    "        else:\n",
    "            column_data = table.find_all('td',class_=col)\n",
    "            data[col].extend( [t.string.strip() for t in column_data] )\n",
    "    \n",
    "\n",
    "df = pd.DataFrame(data)\n",
    "\n",
    "#df.to_json('fgcu.json')\n",
    "df"
   ]
  },
  {
   "cell_type": "code",
   "execution_count": 14,
   "metadata": {},
   "outputs": [],
   "source": [
    "\n",
    "def get_starters(box):\n",
    "    rows = box.contents[0].contents[1].find_all('tr')\n",
    "    players = []\n",
    "\n",
    "    for i, row in enumerate(rows):\n",
    "        if i not in [0,len(rows)-1,len(rows)-2]:\n",
    "            players.append(row.contents[1].string.strip())\n",
    "\n",
    "    return players[0:5]\n",
    "\n",
    "box_scores = {}\n",
    "starters = {}\n",
    "\n",
    "# Get the starting lineups for each team\n",
    "for team in ['away', 'home']:\n",
    "    driver.find_element(By.CLASS_NAME,f'{team}Team-bg-primary_color').click()\n",
    "\n",
    "    soup = BeautifulSoup(driver.page_source, 'html.parser')\n",
    "\n",
    "    box_scores[team] = soup.find('div',id='gamecenterAppContent')\n",
    "\n",
    "    starters[team] = get_starters(box_scores[team])"
   ]
  },
  {
   "cell_type": "code",
   "execution_count": 15,
   "metadata": {},
   "outputs": [
    {
     "data": {
      "text/plain": [
       "{'away': ['10:00', '10:00', '10:00', '10:00', '10:00'],\n",
       " 'home': ['10:00', '10:00', '10:00', '10:00', '10:00']}"
      ]
     },
     "execution_count": 15,
     "metadata": {},
     "output_type": "execute_result"
    }
   ],
   "source": [
    "starters"
   ]
  },
  {
   "cell_type": "code",
   "execution_count": null,
   "metadata": {},
   "outputs": [],
   "source": [
    "current_players"
   ]
  },
  {
   "cell_type": "code",
   "execution_count": 34,
   "metadata": {},
   "outputs": [],
   "source": [
    "current_players = {'home':[], 'away':[]}\n",
    "\n",
    "for team in ['home', 'away']:\n",
    "    for row in df.iterrows():\n",
    "        current_players[team].append(getCurrentLineup(row, team))\n",
    "\n",
    "    df[f'{team}_current_lineup'] = current_players[team]\n",
    "#df.to_json('fgcu.json')"
   ]
  },
  {
   "cell_type": "code",
   "execution_count": 33,
   "metadata": {},
   "outputs": [
    {
     "data": {
      "text/html": [
       "<div>\n",
       "<style scoped>\n",
       "    .dataframe tbody tr th:only-of-type {\n",
       "        vertical-align: middle;\n",
       "    }\n",
       "\n",
       "    .dataframe tbody tr th {\n",
       "        vertical-align: top;\n",
       "    }\n",
       "\n",
       "    .dataframe thead th {\n",
       "        text-align: right;\n",
       "    }\n",
       "</style>\n",
       "<table border=\"1\" class=\"dataframe\">\n",
       "  <thead>\n",
       "    <tr style=\"text-align: right;\">\n",
       "      <th></th>\n",
       "      <th>time</th>\n",
       "      <th>team</th>\n",
       "      <th>description</th>\n",
       "      <th>score</th>\n",
       "      <th>quarter</th>\n",
       "      <th>home_current_lineup</th>\n",
       "      <th>away_current_lineup</th>\n",
       "    </tr>\n",
       "  </thead>\n",
       "  <tbody>\n",
       "  </tbody>\n",
       "</table>\n",
       "</div>"
      ],
      "text/plain": [
       "Empty DataFrame\n",
       "Columns: [time, team, description, score, quarter, home_current_lineup, away_current_lineup]\n",
       "Index: []"
      ]
     },
     "execution_count": 33,
     "metadata": {},
     "output_type": "execute_result"
    }
   ],
   "source": [
    "df[~df['description'].str.contains('Sub') & [len(l)!=5 for l in current_players['away']]]"
   ]
  }
 ],
 "metadata": {
  "kernelspec": {
   "display_name": "Python 3.9.6 64-bit",
   "language": "python",
   "name": "python3"
  },
  "language_info": {
   "codemirror_mode": {
    "name": "ipython",
    "version": 3
   },
   "file_extension": ".py",
   "mimetype": "text/x-python",
   "name": "python",
   "nbconvert_exporter": "python",
   "pygments_lexer": "ipython3",
   "version": "3.12.4"
  },
  "orig_nbformat": 4,
  "vscode": {
   "interpreter": {
    "hash": "af12f3811b3d98517c92320a45b3ea2fc607433d60ddfc1a732b8e45799b53c8"
   }
  }
 },
 "nbformat": 4,
 "nbformat_minor": 2
}
